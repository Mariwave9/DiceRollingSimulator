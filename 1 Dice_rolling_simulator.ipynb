{
 "cells": [
  {
   "cell_type": "code",
   "execution_count": null,
   "metadata": {},
   "outputs": [],
   "source": [
    "############################################## Dice Rolling Simulator ##############################################\n",
    "\n",
    "''' TASK: The Goal of this project, like the title suggests, involves writing a program that simulates rolling a\n",
    "dice. When the program runs, it will randomly choose a number between 1 and 6. (Or whatever\n",
    "other integer you prefer — the number of sides on the die is up to you.) The program will print\n",
    "what that number is. It should then ask you if you’d like to roll again. For this project, you’ll need\n",
    "to set the min and max number that your dice can produce. For the average die, that means a\n",
    "minimum of 1 and a maximum of 6. You’ll also want a function that randomly grabs a number\n",
    "#within that range and prints it. '''"
   ]
  },
  {
   "cell_type": "code",
   "execution_count": 1,
   "metadata": {},
   "outputs": [
    {
     "name": "stdout",
     "output_type": "stream",
     "text": [
      "8\n",
      "9\n",
      "7\n",
      "9\n",
      "2\n",
      "Goodbye!\n"
     ]
    }
   ],
   "source": [
    "import random #importing the random module to get random numbers from the range indicated later by the user\n",
    "\n",
    "#asking the user to set the min and max numbers\n",
    "min_num = int(input(\"Please, set the minimum number of your die: \"))\n",
    "max_num = int(input(\"Please, set the maximum number of your die: \"))\n",
    "\n",
    "def rolling_dice(min_num, max_num): #defining a function and setting the min and max number as parameters\n",
    "    \n",
    "    user = input(\"Do you want to roll a die? (yes/no)\")\n",
    "    if user.lower() == \"yes\":\n",
    "        side = random.randint(min_num, max_num) #choosing a random number between the range chosen by the user\n",
    "        print(side)\n",
    "        while True: #the program will keep asking the question until the user enters something different from 'yes'\n",
    "            user = input(\"Do you want to roll it again? (yes/no)\") #asking the user if they want to roll it again\n",
    "            if user.lower() == \"yes\": \n",
    "                side = random.randint(min_num, max_num)\n",
    "                print(side)\n",
    "            else:\n",
    "                print(\"Goodbye!\")\n",
    "                break #the code will stop running when the user enters something different from 'yes'\n",
    "    else:\n",
    "        print(\"Goodbye!\")   \n",
    "        return \n",
    "\n",
    "#calling the function to randomly choose a number in the range specified by the user \n",
    "rolling_dice(min_num, max_num)"
   ]
  }
 ],
 "metadata": {
  "kernelspec": {
   "display_name": "base",
   "language": "python",
   "name": "python3"
  },
  "language_info": {
   "name": "python",
   "version": "3.8.8 (default, Apr 13 2021, 15:08:03) [MSC v.1916 64 bit (AMD64)]"
  },
  "orig_nbformat": 4,
  "vscode": {
   "interpreter": {
    "hash": "eff311ca2a4fe59b659b8a0d54ff4d98afa6fa933bb35d48bbf41121ea0fb99e"
   }
  }
 },
 "nbformat": 4,
 "nbformat_minor": 2
}
